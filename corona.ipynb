{
 "nbformat": 4,
 "nbformat_minor": 0,
 "metadata": {
  "colab": {
   "provenance": [],
   "gpuType": "T4"
  },
  "kernelspec": {
   "name": "python3",
   "display_name": "Python 3"
  },
  "language_info": {
   "name": "python"
  },
  "accelerator": "GPU"
 },
 "cells": [
  {
   "cell_type": "markdown",
   "source": [
    "### **(?): shows where you need to write code**"
   ],
   "metadata": {
    "id": "fd9uRzcKqF66"
   }
  },
  {
   "cell_type": "markdown",
   "source": [
    "### (?) Go to the location of the data"
   ],
   "metadata": {
    "id": "qqRLu210ybgI"
   }
  },
  {
   "cell_type": "markdown",
   "source": [
    "Mount the notebook to your google drive, and then you can access the files in google drive"
   ],
   "metadata": {
    "id": "RJ4BMnjjkAwe"
   }
  },
  {
   "cell_type": "code",
   "execution_count": null,
   "metadata": {
    "id": "G67a5_bXf4IH",
    "colab": {
     "base_uri": "https://localhost:8080/"
    },
    "outputId": "af9c62e8-bb87-4d95-9601-8c1693635b85"
   },
   "outputs": [],
   "source": [
    "from google.colab import drive\n",
    "\n",
    "drive.mount('/content/drive')"
   ]
  },
  {
   "cell_type": "markdown",
   "source": [
    "**(?) Switch to the corona folder**\n",
    "\n",
    "command: %cd /content/drive/MyDrive/.../corona\n",
    "\n",
    "'...' means the path from 'MyDrive' to the 'corona' folder, which needs to be filled in according to where you put the 'corona' folder"
   ],
   "metadata": {
    "id": "ewmp37banoUZ"
   }
  },
  {
   "cell_type": "code",
   "source": [
    "%cd /content/drive/MyDrive/"
   ],
   "metadata": {
    "id": "TlRmPCP7oR0o",
    "colab": {
     "base_uri": "https://localhost:8080/"
    },
    "outputId": "5c61b78c-410d-407a-e0d4-d832c0fded35"
   },
   "execution_count": null,
   "outputs": []
  },
  {
   "cell_type": "markdown",
   "source": [
    "**Check if the directory is correct**\n",
    "\n",
    "If correct, you will find \"data\", \"corona_questions\", and \"corona.ipynb\" in the output"
   ],
   "metadata": {
    "id": "9d6UjPpSpAGQ"
   }
  },
  {
   "cell_type": "code",
   "source": [
    "!ls"
   ],
   "metadata": {
    "id": "TasOlon7pOgJ",
    "colab": {
     "base_uri": "https://localhost:8080/"
    },
    "outputId": "0a8c51c0-7f93-4c51-eaab-bd4d85eae26a"
   },
   "execution_count": null,
   "outputs": []
  },
  {
   "cell_type": "markdown",
   "source": [
    "### (?) (optional) Package"
   ],
   "metadata": {
    "id": "R4KAhw_Bokwl"
   }
  },
  {
   "cell_type": "markdown",
   "source": [
    "**Import packages**"
   ],
   "metadata": {
    "id": "AqkJUFI-bYvo"
   }
  },
  {
   "cell_type": "code",
   "source": [
    "import numpy as np\n",
    "from scipy.io import loadmat, savemat\n",
    "\n",
    "import torch\n",
    "import torch.nn as nn\n",
    "from torch.utils.data import Dataset, DataLoader, random_split\n",
    "\n",
    "from pathlib import Path\n",
    "import math\n",
    "\n",
    "import os\n",
    "import time\n",
    "import datetime\n",
    "import matplotlib.pyplot as plt\n",
    "\n",
    "import cv2"
   ],
   "metadata": {
    "id": "sJviRB4jodkV"
   },
   "execution_count": 1,
   "outputs": []
  },
  {
   "cell_type": "markdown",
   "source": [
    "**(?) (optional) Other packages**\n",
    "\n",
    "If you want to use some packages that are not imported above, please write in the block below; if not, you can ignore this block"
   ],
   "metadata": {
    "id": "u1KDs_Apx16W"
   }
  },
  {
   "cell_type": "code",
   "source": [],
   "metadata": {
    "id": "16Ka-MLQVYzi"
   },
   "execution_count": 1,
   "outputs": []
  },
  {
   "cell_type": "markdown",
   "source": [
    "### (?) Data"
   ],
   "metadata": {
    "id": "6eFqkVitVg82"
   }
  },
  {
   "cell_type": "markdown",
   "source": [
    "> In this project, the model is designed for complex-valued video, you need to read the file and treat it as a complex-valued video, whether it is a complex-valued video or a real-valued video, and then store it as real-valued data"
   ],
   "metadata": {
    "id": "ECvDrBueeu_8"
   }
  },
  {
   "cell_type": "markdown",
   "source": [
    "> In the data folder, there are 9 MAT files, and each file has three 3D arrays of size (H,W,T<sub>total</sub>):\n",
    "> * D: raw data, original video\n",
    "> * L: low rank part, background\n",
    "> * S: sparse part, foreground\n",
    ">\n",
    "> where H is the height of the frame, W is the width of the frame, and T<sub>total</sub> is the total number of frames in the video. Also, the frame size has been resized to 100*100 (meaning H = W = 100)"
   ],
   "metadata": {
    "id": "dgqfW3VcVikS"
   }
  },
  {
   "cell_type": "markdown",
   "source": [
    "**(?) Read files and Get data**\n",
    "\n",
    "Description: You already know the location of the files containing the videos, please read them and gather and organize the data.\n",
    "\n",
    "Requirements:\n",
    "1. You need to sample a continuous segment of length T (num_frames in the code) from the video every few frames (stride in the code), each segment of size (H,W,T)\n",
    "2. Because the model only accepts real-valued data, and the segment is complex-valued, it is necessary to concatenate the real and imaginary parts of the video along the third dimension.\n",
    " * Size changed from (H,W,T) to (H,W,T2), where T2 = T × 2, the first T 2D arrays are the real part of the segment, and the last T 2D arrays are the imaginary part of the segment\n",
    "3. Function I/O\n",
    " * Input: A MAT file, num_frames, stride\n",
    " * Output: D, L, S (the size should be (N,1,H,W,T2), where N is the number of segments of size (H,W,T2))\n",
    "\n",
    "Hint:\n",
    "* Given a tensor A of size (H,W,T), what is the size of B = A[None, ...]?"
   ],
   "metadata": {
    "id": "x_T9MKyPVj2C"
   }
  },
  {
   "cell_type": "code",
   "source": [
    "def get_data(file, num_frames=40, stride=10):\n",
    "    data = loadmat(file, mat_dtype=True)\n",
    "    D, L, S = data[\"D\"], data[\"L\"], data[\"S\"]\n",
    "    D = D.astype(np.complex64)\n",
    "\n",
    "    segments = []\n",
    "    for i in range(0, D.shape[2] - num_frames + 1, stride):\n",
    "        segment_D = D[:, :, i:i + num_frames]\n",
    "        segment_L = L[:, :, i:i + num_frames]\n",
    "        segment_S = S[:, :, i:i + num_frames]\n",
    "        segments.append((segment_D, segment_L, segment_S))\n",
    "\n",
    "    segments = np.array(segments)\n",
    "\n",
    "    segments_complex = segments.astype(np.complex64)\n",
    "    segments_real = np.real(segments_complex)\n",
    "    segments_imag = np.imag(segments_complex)\n",
    "    segments_concat = np.concatenate((segments_real, segments_imag), axis=-1)\n",
    "\n",
    "    return torch.from_numpy(np.expand_dims(segments_concat[:, 0], axis=1)), torch.from_numpy(np.expand_dims(segments_concat[:, 1], axis=1)), torch.from_numpy(np.expand_dims(segments_concat[:, 2], axis=1))\n",
    "# get_data('data/Board.mat')"
   ],
   "metadata": {
    "id": "fq1gY8bRVmOl"
   },
   "execution_count": 2,
   "outputs": []
  },
  {
   "cell_type": "markdown",
   "source": [
    "**(?) Build a custom dataset using the data you get from 'get_data'**\n",
    "\n",
    "Requirement:\n",
    "1. You now get D, L, S, please build a custom dataset for loading data\n",
    "\n",
    "Note:\n",
    "1. Image transformation is not necessary, it's up to you"
   ],
   "metadata": {
    "id": "0Khx0QN7Vq9T"
   }
  },
  {
   "cell_type": "code",
   "source": [
    "class CustomDataset(Dataset):\n",
    "    def __init__(self, D, L, S, transform=None):\n",
    "        self.D, self.L, self.S = D, L, S\n",
    "        self.transform = transform\n",
    "\n",
    "    def __len__(self):\n",
    "        return len(self.D)\n",
    "\n",
    "    def __getitem__(self, index):\n",
    "        x = self.D[index],\n",
    "        y = (self.L[index], self.S[index])\n",
    "\n",
    "        if self.transform:\n",
    "            x = self.transform(x)\n",
    "\n",
    "        return x, y"
   ],
   "metadata": {
    "id": "rChqoi3IVvfT"
   },
   "execution_count": 3,
   "outputs": []
  },
  {
   "cell_type": "markdown",
   "source": [
    "### (?) Model"
   ],
   "metadata": {
    "id": "_fNp3CEcsEJC"
   }
  },
  {
   "cell_type": "markdown",
   "source": [
    "> You'll be writing code for soft thresholding in your model, so here's a brief description of what soft thresholding is and how to use it\n",
    ">\n",
    "> * Hard thresholding will turn values close to 0 directly to 0, while soft thresholding will move all values closer to 0 (too close will directly become 0)\n",
    ">\n",
    "> * Using a soft threshold with $ℓ_1$-norm can make variables sparse, in practice you can often see many people use it because $ℓ_1$-norm has good properties (convex, continuous, sub-differentiable)\n",
    ">\n",
    "> * Suppose now you have a variable $x$ (scalar or vector) and a threshold $t \\geq 0$, you can do soft thresholding on $x$ as follows:\n",
    ">\n",
    ">  1. Change $x = ||x||_2 × \\frac{x}{||x||_2}$, the first part shows the magnitude and the second part shows the direction\n",
    ">  2. We do the thresholding on the magnitude, so change the magnitude to ReLU$(||x||_2 - t)$\n",
    ">  3. The result $x'=$ ReLU$(||x||_2 - t) × \\frac{x}{||x||_2} = (||x||_2 - t)_{+} × \\frac{x}{||x||_2}$\n",
    "> * From the above example, you can find that the most important thing is to find an appropriate threshold $t$, which is what we want the model to learn\n",
    ">"
   ],
   "metadata": {
    "id": "7iWlXTIrZ2Bd"
   }
  },
  {
   "cell_type": "markdown",
   "source": [
    "**(?) Complex Convolutional 3D Layer**\n",
    "\n",
    "From the equation:\n",
    "\n",
    "Y = X × W \\\\\n",
    "= Y<sub>real</sub> + jY<sub>imag</sub>\n",
    "= (X<sub>real</sub> + jX<sub>imag</sub>) × (W<sub>real</sub> + jW<sub>imag</sub>) \\\\\n",
    "= X<sub>real</sub> × W<sub>real</sub> + X<sub>real</sub> × jW<sub>imag</sub> + jXi × W<sub>real</sub> + jX<sub>imag</sub> × jW<sub>imag</sub> \\\\\n",
    "= (X<sub>real</sub> × W<sub>real</sub> - X<sub>imag</sub> × W<sub>imag</sub>) + j(X<sub>real</sub> × W<sub>imag</sub> + X<sub>imag</sub> × W<sub>real</sub>)\n",
    "\n",
    "We can easily find out how to directly use the real and imaginary parts of the input and weight to get the correct result Y<sub>real</sub>, Y<sub>imag</sub> (all are real-valued)\n",
    "\n",
    "Requirements:\n",
    "* Please complete the forward function, note that X and Y are the same size"
   ],
   "metadata": {
    "id": "TMOPuD8VPNl9"
   }
  },
  {
   "cell_type": "code",
   "source": [
    "class Conv3dC(nn.Module):\n",
    "    def __init__(self, kernel_size):\n",
    "        super(Conv3dC, self).__init__()\n",
    "\n",
    "        self.kernel_size = kernel_size\n",
    "\n",
    "        self.convR = nn.Conv3d(1, 1, kernel_size=kernel_size, padding='same')  # W_real\n",
    "        self.convI = nn.Conv3d(1, 1, kernel_size=kernel_size, padding='same')  # W_imag\n",
    "\n",
    "    def forward(self, X):\n",
    "        T = X.shape[-1] // 2\n",
    "        R = X[..., :T]\n",
    "        I = X[..., T:]\n",
    "        Y = torch.concat([self.convR(R) - self.convI(I), self.convR(I) + self.convI(R)], dim=-1)\n",
    "        return Y\n"
   ],
   "metadata": {
    "id": "Mu2q1IWyPNQN"
   },
   "execution_count": 4,
   "outputs": []
  },
  {
   "cell_type": "markdown",
   "source": [
    "**Combination of three Complex Convolutional 3D Layers**"
   ],
   "metadata": {
    "id": "2avLScmbkTz7"
   }
  },
  {
   "cell_type": "code",
   "source": [
    "class Conv3dCx3(nn.Module):\n",
    "    def __init__(self, kernel_size):\n",
    "        super(Conv3dCx3, self).__init__()\n",
    "\n",
    "        self.kernel_size = kernel_size\n",
    "\n",
    "        self.convD = Conv3dC(kernel_size)\n",
    "        self.convL = Conv3dC(kernel_size)\n",
    "        self.convS = Conv3dC(kernel_size)\n",
    "\n",
    "    def forward(self, X):\n",
    "        D, L, S = X\n",
    "        D = self.convD(D)\n",
    "        L = self.convL(L)\n",
    "        S = self.convS(S)\n",
    "        return D + L + S"
   ],
   "metadata": {
    "id": "U_yFlym3rxkz"
   },
   "execution_count": 5,
   "outputs": []
  },
  {
   "cell_type": "markdown",
   "source": [
    "**(?) Singular Value Thresholding (SVT)**\n",
    "\n",
    "Description:\n",
    "* SVT is used to make the matrix low rank, the principle is to make the singular value sparse\n",
    "* Learnable parameter: lambda_L\n",
    "* Threshold: sigmoid(lambda_L) × coeff_L × maximum singular value\n",
    "* Each segment (containing many frames) has a threshold\n",
    "* Reshape input of size (N,1,H,W,T2) to (N,1,H×W,T2) and convert it to a complex-valued version of size (N,1,H×W,T), and do sigular value thresholding for each sample of size (H×W,T)\n",
    "\n",
    "Requirements:\n",
    "* Please complete the forward function\n",
    "\n",
    "Hints:\n",
    "* Convert the array to the complex-valued version before thresholding\n",
    "* X and Y are the same size"
   ],
   "metadata": {
    "id": "pDMhUbR3kZMa"
   }
  },
  {
   "cell_type": "code",
   "source": [
    "class SVT(nn.Module):\n",
    "    def __init__(self, coeff_L):\n",
    "        super(SVT, self).__init__()\n",
    "\n",
    "        self.coeff_L = coeff_L\n",
    "        self.lambda_L = nn.Parameter(torch.zeros(1, requires_grad=True))\n",
    "\n",
    "        self.relu = nn.ReLU(inplace=True)\n",
    "        self.sigmoid = nn.Sigmoid()\n",
    "\n",
    "    def forward(self, X):\n",
    "        s = X.shape\n",
    "        X = X.reshape([s[0], s[1], s[2] * s[3], s[4]])\n",
    "        t = s[4] // 2\n",
    "        XC = torch.complex(X[..., :t], X[..., t:])\n",
    "\n",
    "        # one = X[0,0,:,0]\n",
    "        # one = one.reshape([100,100])\n",
    "        # fig, axs = plt.subplots(1, 1, figsize=(15, 3))\n",
    "        # axs.imshow(one.detach().cpu().numpy(), cmap='gray')\n",
    "        # plt.show()\n",
    "\n",
    "        U, S, Vt = torch.linalg.svd(XC, full_matrices=False)\n",
    "        a = self.sigmoid(self.lambda_L) * self.coeff_L * S.max(dim=-1).values\n",
    "        S_tr = torch.diag_embed(self.relu(S - a.reshape([s[0], 1, 1]))).type(torch.complex64)\n",
    "        # print(f'{S_tr.shape = }')\n",
    "        # print(f'{S_tr.dtype = }')\n",
    "        # print(f'{U.shape = }')\n",
    "        # print(f'{U.dtype = }')\n",
    "        # print(f'{Vt.shape = }')\n",
    "        # print(f'{Vt.dtype = }')\n",
    "\n",
    "        Y = U @ S_tr @ Vt\n",
    "        Y = torch.concat([Y.real, Y.imag], dim=-1).reshape(s)\n",
    "\n",
    "        return Y"
   ],
   "metadata": {
    "id": "Y_yD0EiysKGC"
   },
   "execution_count": 6,
   "outputs": []
  },
  {
   "cell_type": "markdown",
   "source": [
    "**(?) Soft Thresholding (SFT)**\n",
    "\n",
    "Description:\n",
    "* SFT is used to make the array sparse\n",
    "* Learnable parameter: lambda_S\n",
    "* Threshold: sigmoid(lambda_S) × coeff_S × (root) mean square of elements per frame\n",
    "* Each frame has a threshold\n",
    "\n",
    "Requirements:\n",
    "* Please complete the forward function\n",
    "\n",
    "Hints:\n",
    "* Convert the array to the complex-valued version before thresholding\n",
    "* X and Y are the same size"
   ],
   "metadata": {
    "id": "XTZYIQkikmKU"
   }
  },
  {
   "cell_type": "code",
   "source": [
    "class SFT(nn.Module):\n",
    "    def __init__(self, coeff_S):\n",
    "        super(SFT, self).__init__()\n",
    "\n",
    "        self.coeff_S = coeff_S\n",
    "        self.lambda_S = nn.Parameter(torch.zeros(1, requires_grad=True))\n",
    "\n",
    "        self.relu = nn.ReLU()\n",
    "        self.sigmoid = nn.Sigmoid()\n",
    "\n",
    "    def forward(self, X):\n",
    "        s = X.shape\n",
    "        X = X.reshape([s[0], s[1], s[2] * s[3], s[4]])\n",
    "        t = s[4] // 2\n",
    "        XC = torch.complex(X[..., :t], X[..., t:])\n",
    "\n",
    "        a = self.sigmoid(self.lambda_S) * self.coeff_S * torch.sqrt((XC ** 2).mean(dim=[-2, -1]))\n",
    "        tr = 1 - a / torch.linalg.norm(XC, 2, dim=[-2, -1])\n",
    "        Y = (self.relu(tr.real) + 1.j * self.relu(tr.imag)).reshape((s[0], s[1], 1, 1)) * XC\n",
    "        Y = torch.concat([Y.real, Y.imag], dim=-1).reshape(s)\n",
    "        return Y"
   ],
   "metadata": {
    "id": "IOLdiIhbsOBx"
   },
   "execution_count": 7,
   "outputs": []
  },
  {
   "cell_type": "markdown",
   "source": [
    "**ISTA Cell**\n",
    "\n",
    "Including Conv3dx3, SVT, SFT"
   ],
   "metadata": {
    "id": "oSiTDzS5l4hC"
   }
  },
  {
   "cell_type": "code",
   "source": [
    "class ISTACell(nn.Module):\n",
    "    def __init__(self, kernel_size, coeff_L, coeff_S):\n",
    "        super(ISTACell, self).__init__()\n",
    "\n",
    "        self.kernel_size = kernel_size\n",
    "        self.coeff_L = coeff_L\n",
    "        self.coeff_S = coeff_S\n",
    "\n",
    "        self.netL = nn.Sequential(Conv3dCx3(kernel_size), SVT(coeff_L))\n",
    "        self.netS = nn.Sequential(Conv3dCx3(kernel_size), SFT(coeff_S))\n",
    "\n",
    "    def forward(self, X):\n",
    "        D = X[0]\n",
    "        L = self.netL(X)\n",
    "        S = self.netS(X)\n",
    "\n",
    "        Y = torch.zeros(X.shape).to(X.device)\n",
    "        Y[0], Y[1], Y[2] = D, L, S\n",
    "        return Y"
   ],
   "metadata": {
    "id": "4D7eF2XHsUUi"
   },
   "execution_count": 8,
   "outputs": []
  },
  {
   "cell_type": "markdown",
   "source": [
    "**(?) Deep Network: Convolutional rObust pRincipal cOmpoNent Analysis (CORONA)**\n",
    "\n",
    "Description:\n",
    "* kernel_list contains some integers, each integer k can be used to set the kernel_size = [k,k,1] of the corresponding layer\n",
    "\n",
    "Requirement:\n",
    "* Construct the network called 'net'\n",
    "\n",
    "Hint:\n",
    "* Please read ISTACell cell first\n",
    "* You may need 'nn.Sequential(*layers)'"
   ],
   "metadata": {
    "id": "cJVjpmSrmG3J"
   }
  },
  {
   "cell_type": "code",
   "source": [
    "class CORONA(nn.Module):\n",
    "    def __init__(self, kernel_list, coeff_L=0.4, coeff_S=1.8):\n",
    "        super(CORONA, self).__init__()\n",
    "        self.kernel_list = kernel_list\n",
    "        self.coeff_L = coeff_L\n",
    "        self.coeff_S = coeff_S\n",
    "\n",
    "        self.net = nn.Sequential(*[ISTACell(layer, self.coeff_L, self.coeff_S) for layer in kernel_list])\n",
    "\n",
    "    def forward(self, D):\n",
    "        X = torch.zeros([3] + list(D.shape)).to(D.device)\n",
    "        X[0] = D\n",
    "        X = self.net(X)\n",
    "        L, S = X[1], X[2]\n",
    "        return L, S"
   ],
   "metadata": {
    "id": "qePcOBxBsaD5"
   },
   "execution_count": 9,
   "outputs": []
  },
  {
   "cell_type": "markdown",
   "source": [
    "### Compute loss\n",
    "\n",
    "Input:\n",
    "* target = (target_L, target_S)"
   ],
   "metadata": {
    "id": "xDQf4kMzCie3"
   }
  },
  {
   "cell_type": "code",
   "source": [
    "def get_loss(net, input_D, target, alpha=0.5):\n",
    "    output_L, output_S = net(input_D)\n",
    "    target_L, target_S = target\n",
    "\n",
    "    criterion = nn.MSELoss()\n",
    "\n",
    "    loss_L = criterion(output_L, target_L)\n",
    "    loss_S = criterion(output_S, target_S)\n",
    "    loss = alpha * loss_L + (1 - alpha) * loss_S\n",
    "\n",
    "    return loss"
   ],
   "metadata": {
    "id": "pwRySj-zCliH"
   },
   "execution_count": 10,
   "outputs": []
  },
  {
   "cell_type": "markdown",
   "source": [
    "### Function for constructing videos\n",
    "\n",
    "Input:\n",
    "* images_array is of size (H,W,T)"
   ],
   "metadata": {
    "id": "g6h0T52zXbA5"
   }
  },
  {
   "cell_type": "code",
   "source": [
    "def array_to_gray_video(images_array, video_name, fps=30):\n",
    "    # Get the height and width of the video, assuming all frames have the same size\n",
    "    height, width = images_array.shape[0], images_array.shape[1]\n",
    "\n",
    "    # Set the video codec to mp4\n",
    "    fourcc = cv2.VideoWriter_fourcc(*\"mp4v\")\n",
    "\n",
    "    # Create a VideoWriter object, with parameters for the output file name, codec, frame rate, and size\n",
    "    video = cv2.VideoWriter(video_name, fourcc, fps, (width, height), isColor=False)\n",
    "\n",
    "    # Write each frame in the numpy array to the output video\n",
    "    for i in range(images_array.shape[2]):\n",
    "        image = images_array[:, :, i]\n",
    "        image = np.uint8(image)  # Convert to uint8 format\n",
    "        video.write(image)\n",
    "\n",
    "    # Release the resources used by the VideoWriter and destroy any OpenCV windows\n",
    "    video.release()\n",
    "    cv2.destroyAllWindows()"
   ],
   "metadata": {
    "id": "7mUfAEMjjXro"
   },
   "execution_count": 11,
   "outputs": []
  },
  {
   "cell_type": "markdown",
   "source": [
    "### (?) Main"
   ],
   "metadata": {
    "id": "JQVyhkAlWCOT"
   }
  },
  {
   "cell_type": "markdown",
   "source": [
    "Decide which device to use"
   ],
   "metadata": {
    "id": "yNvwVd1mAZFR"
   }
  },
  {
   "cell_type": "code",
   "source": [
    "device = torch.device('cuda')"
   ],
   "metadata": {
    "id": "jOqucvKo6O3A"
   },
   "execution_count": 12,
   "outputs": []
  },
  {
   "cell_type": "markdown",
   "source": [
    "**(?) Get data**\n",
    "\n",
    "Requirements:\n",
    "* Get data from the files and concatenate them\n",
    "* Build datasets and dataloaders"
   ],
   "metadata": {
    "id": "dcH5PHFcJwzI"
   }
  },
  {
   "cell_type": "code",
   "source": [
    "torch.cuda.empty_cache()\n",
    "#(?) There are many files in the data folder, please collect them into file_list\n",
    "#   Hint: You may need 'os.listdir'\n",
    "path = 'data'\n",
    "file_list = os.listdir(path)\n",
    "print(file_list)\n",
    "\n",
    "#(?) Input each file in file_list to get_data one by one, and then\n",
    "#   concatenate the D obtained from each file along the first dimension.\n",
    "#   Do the same operations on L and S, resulting in three arrays\n",
    "#   of equal size (D, L, and S)\n",
    "\n",
    "D_list, L_list, S_list = [], [], []\n",
    "for file in file_list:\n",
    "    Di, Li, Si = get_data(path + '/' + file)\n",
    "    D_list.append(Di)\n",
    "    L_list.append(Li)\n",
    "    S_list.append(Si)\n",
    "\n",
    "D, L, S = torch.cat(D_list, dim=0).to(device), torch.cat(L_list, dim=0).to(device), torch.cat(S_list, dim=0).to(device)\n",
    "\n",
    "#(?) Use the custom dataset to build a dataset with the obtained array D, L, and S\n",
    "data = CustomDataset(D, L, S)\n",
    "\n",
    "#(?) Split the dataset into the training part (80%) and the validation part (20%)\n",
    "#   Hint: You may need 'random_split'\n",
    "train_size = int(0.8 * len(data))\n",
    "valid_size = len(data) - train_size\n",
    "train_dataset, valid_dataset = torch.utils.data.random_split(data, [train_size, valid_size])\n",
    "\n",
    "#(?) Create train_loader and valid_loader using train_set and valid_set\n",
    "#   Hint: Set the batch size to be less than or equal to 4, or you may get an out-of-memery error\n",
    "batch_size = 8\n",
    "train_loader = DataLoader(train_dataset, batch_size=batch_size, shuffle=True)\n",
    "valid_loader = DataLoader(valid_dataset, batch_size=batch_size, shuffle=True)"
   ],
   "metadata": {
    "id": "ZrqzVWd3WDY6",
    "colab": {
     "base_uri": "https://localhost:8080/"
    },
    "outputId": "6d229432-2643-4173-9e68-24b02415a750"
   },
   "execution_count": 13,
   "outputs": [
    {
     "name": "stdout",
     "output_type": "stream",
     "text": [
      "['Board.mat', 'Candela_m1.mat', 'CAVIAR1.mat', 'CaVignal.mat', 'HallAndMonitor.mat', 'HighwayI.mat', 'HighwayII.mat', 'IBMtest2.mat', 'Snellen.mat']\n"
     ]
    }
   ]
  },
  {
   "cell_type": "markdown",
   "source": [
    "Create a model"
   ],
   "metadata": {
    "id": "sgQ45gWfL69h"
   }
  },
  {
   "cell_type": "code",
   "source": [
    "kernel_list = [5] * 2\n",
    "coeff_L = 0.4\n",
    "coeff_S = 1.8\n",
    "net = CORONA(kernel_list, coeff_L=coeff_L, coeff_S=coeff_S)\n",
    "net = net.to(device)"
   ],
   "metadata": {
    "id": "WAtEDouWL7WB"
   },
   "execution_count": 14,
   "outputs": []
  },
  {
   "cell_type": "markdown",
   "source": [
    "**(?) Train the model**\n",
    "\n",
    "Requirements:\n",
    "* Determine the optimizer\n",
    "* Finish the training process\n",
    "\n",
    "Note:\n",
    "* It takes about 2 hours to complete 100 epochs, you can test it with smaller max_epochs to confirm whether the code is correct"
   ],
   "metadata": {
    "id": "Dm6QET0qMgso"
   }
  },
  {
   "cell_type": "code",
   "source": [
    "max_epochs = 100\n",
    "alpha = 0.5\n",
    "\n",
    "#(?) Optimizer\n",
    "optimizer = torch.optim.Adam(lr=6e-3, params=net.parameters())\n",
    "\n",
    "#\n",
    "min_valid_loss = np.inf\n",
    "\n",
    "# Container of the results\n",
    "train_loss_list = []\n",
    "valid_loss_list = []\n",
    "\n",
    "for epoch in range(max_epochs):\n",
    "    #(?) Use 'train_loader' to update the model\n",
    "    net.train()\n",
    "    train_loss = 0\n",
    "    for i, ([D], target) in enumerate(train_loader):\n",
    "        optimizer.zero_grad()\n",
    "        loss = get_loss(net, D, target)\n",
    "        train_loss += loss.detach()\n",
    "        loss.backward()\n",
    "        optimizer.step()\n",
    "        if i % 5 == 0:\n",
    "            print(f'{i}th batch')\n",
    "    train_loss /= train_size / batch_size\n",
    "    train_loss_list.append(train_loss.cpu())\n",
    "\n",
    "    #(?) Use 'train_loader' and 'valid_loader' to evaluate the model\n",
    "    #   Compute train_loss and valid_loss and append them to train_loss_list and valid_loss_list respectively\n",
    "    net.eval()\n",
    "    valid_loss = 0\n",
    "    for [D], target in valid_loader:\n",
    "        valid_loss += get_loss(net, D, target).detach()\n",
    "    valid_loss /= valid_size / batch_size\n",
    "    valid_loss_list.append(valid_loss.cpu())\n",
    "\n",
    "    # Use validation loss to determine the best model\n",
    "    if valid_loss < min_valid_loss:\n",
    "        net_best = net\n",
    "        min_valid_loss = valid_loss\n",
    "\n",
    "    torch.cuda.empty_cache()\n",
    "    print(f'Epoch {epoch} completed')\n",
    "\n",
    "net = net_best"
   ],
   "metadata": {
    "id": "raFbk0juMjLX",
    "colab": {
     "base_uri": "https://localhost:8080/",
     "height": 1000
    },
    "outputId": "a3ac7b0c-e609-43fb-cb5a-773e6bfc6ee1"
   },
   "execution_count": 15,
   "outputs": [
    {
     "name": "stdout",
     "output_type": "stream",
     "text": [
      "0th batch\n",
      "5th batch\n",
      "10th batch\n",
      "15th batch\n",
      "20th batch\n",
      "25th batch\n",
      "Epoch 0 completed\n",
      "0th batch\n",
      "5th batch\n",
      "10th batch\n",
      "15th batch\n",
      "20th batch\n",
      "25th batch\n",
      "Epoch 1 completed\n",
      "0th batch\n",
      "5th batch\n",
      "10th batch\n",
      "15th batch\n",
      "20th batch\n",
      "25th batch\n",
      "Epoch 2 completed\n",
      "0th batch\n",
      "5th batch\n",
      "10th batch\n",
      "15th batch\n",
      "20th batch\n",
      "25th batch\n",
      "Epoch 3 completed\n",
      "0th batch\n",
      "5th batch\n",
      "10th batch\n",
      "15th batch\n",
      "20th batch\n",
      "25th batch\n",
      "Epoch 4 completed\n",
      "0th batch\n",
      "5th batch\n",
      "10th batch\n",
      "15th batch\n",
      "20th batch\n",
      "25th batch\n",
      "Epoch 5 completed\n",
      "0th batch\n",
      "5th batch\n",
      "10th batch\n",
      "15th batch\n",
      "20th batch\n",
      "25th batch\n",
      "Epoch 6 completed\n",
      "0th batch\n",
      "5th batch\n",
      "10th batch\n",
      "15th batch\n",
      "20th batch\n",
      "25th batch\n",
      "Epoch 7 completed\n",
      "0th batch\n",
      "5th batch\n",
      "10th batch\n",
      "15th batch\n",
      "20th batch\n",
      "25th batch\n",
      "Epoch 8 completed\n",
      "0th batch\n",
      "5th batch\n",
      "10th batch\n",
      "15th batch\n",
      "20th batch\n",
      "25th batch\n",
      "Epoch 9 completed\n",
      "0th batch\n",
      "5th batch\n",
      "10th batch\n",
      "15th batch\n",
      "20th batch\n",
      "25th batch\n",
      "Epoch 10 completed\n",
      "0th batch\n",
      "5th batch\n",
      "10th batch\n",
      "15th batch\n",
      "20th batch\n",
      "25th batch\n",
      "Epoch 11 completed\n",
      "0th batch\n",
      "5th batch\n",
      "10th batch\n",
      "15th batch\n",
      "20th batch\n",
      "25th batch\n",
      "Epoch 12 completed\n",
      "0th batch\n",
      "5th batch\n",
      "10th batch\n",
      "15th batch\n",
      "20th batch\n",
      "25th batch\n",
      "Epoch 13 completed\n",
      "0th batch\n",
      "5th batch\n",
      "10th batch\n",
      "15th batch\n",
      "20th batch\n",
      "25th batch\n",
      "Epoch 14 completed\n",
      "0th batch\n",
      "5th batch\n",
      "10th batch\n",
      "15th batch\n",
      "20th batch\n",
      "25th batch\n",
      "Epoch 15 completed\n",
      "0th batch\n",
      "5th batch\n",
      "10th batch\n",
      "15th batch\n",
      "20th batch\n",
      "25th batch\n",
      "Epoch 16 completed\n",
      "0th batch\n",
      "5th batch\n",
      "10th batch\n",
      "15th batch\n",
      "20th batch\n",
      "25th batch\n",
      "Epoch 17 completed\n",
      "0th batch\n",
      "5th batch\n",
      "10th batch\n",
      "15th batch\n",
      "20th batch\n",
      "25th batch\n",
      "Epoch 18 completed\n",
      "0th batch\n",
      "5th batch\n",
      "10th batch\n",
      "15th batch\n",
      "20th batch\n",
      "25th batch\n",
      "Epoch 19 completed\n",
      "0th batch\n",
      "5th batch\n",
      "10th batch\n",
      "15th batch\n",
      "20th batch\n",
      "25th batch\n",
      "Epoch 20 completed\n",
      "0th batch\n",
      "5th batch\n",
      "10th batch\n",
      "15th batch\n",
      "20th batch\n",
      "25th batch\n",
      "Epoch 21 completed\n",
      "0th batch\n",
      "5th batch\n",
      "10th batch\n",
      "15th batch\n",
      "20th batch\n",
      "25th batch\n",
      "Epoch 22 completed\n",
      "0th batch\n",
      "5th batch\n",
      "10th batch\n",
      "15th batch\n",
      "20th batch\n",
      "25th batch\n",
      "Epoch 23 completed\n",
      "0th batch\n",
      "5th batch\n",
      "10th batch\n",
      "15th batch\n",
      "20th batch\n",
      "25th batch\n",
      "Epoch 24 completed\n",
      "0th batch\n",
      "5th batch\n",
      "10th batch\n",
      "15th batch\n",
      "20th batch\n",
      "25th batch\n",
      "Epoch 25 completed\n",
      "0th batch\n",
      "5th batch\n",
      "10th batch\n",
      "15th batch\n",
      "20th batch\n",
      "25th batch\n",
      "Epoch 26 completed\n",
      "0th batch\n",
      "5th batch\n",
      "10th batch\n",
      "15th batch\n",
      "20th batch\n",
      "25th batch\n",
      "Epoch 27 completed\n",
      "0th batch\n",
      "5th batch\n",
      "10th batch\n",
      "15th batch\n",
      "20th batch\n",
      "25th batch\n",
      "Epoch 28 completed\n",
      "0th batch\n",
      "5th batch\n",
      "10th batch\n",
      "15th batch\n",
      "20th batch\n",
      "25th batch\n",
      "Epoch 29 completed\n",
      "0th batch\n",
      "5th batch\n",
      "10th batch\n",
      "15th batch\n",
      "20th batch\n",
      "25th batch\n",
      "Epoch 30 completed\n",
      "0th batch\n",
      "5th batch\n",
      "10th batch\n",
      "15th batch\n",
      "20th batch\n",
      "25th batch\n",
      "Epoch 31 completed\n",
      "0th batch\n",
      "5th batch\n",
      "10th batch\n",
      "15th batch\n",
      "20th batch\n",
      "25th batch\n",
      "Epoch 32 completed\n",
      "0th batch\n",
      "5th batch\n",
      "10th batch\n",
      "15th batch\n",
      "20th batch\n",
      "25th batch\n",
      "Epoch 33 completed\n",
      "0th batch\n",
      "5th batch\n",
      "10th batch\n",
      "15th batch\n",
      "20th batch\n",
      "25th batch\n",
      "Epoch 34 completed\n",
      "0th batch\n",
      "5th batch\n",
      "10th batch\n",
      "15th batch\n",
      "20th batch\n",
      "25th batch\n",
      "Epoch 35 completed\n",
      "0th batch\n",
      "5th batch\n",
      "10th batch\n",
      "15th batch\n",
      "20th batch\n",
      "25th batch\n",
      "Epoch 36 completed\n",
      "0th batch\n",
      "5th batch\n",
      "10th batch\n",
      "15th batch\n",
      "20th batch\n",
      "25th batch\n",
      "Epoch 37 completed\n",
      "0th batch\n",
      "5th batch\n",
      "10th batch\n",
      "15th batch\n",
      "20th batch\n",
      "25th batch\n",
      "Epoch 38 completed\n",
      "0th batch\n",
      "5th batch\n",
      "10th batch\n",
      "15th batch\n",
      "20th batch\n",
      "25th batch\n",
      "Epoch 39 completed\n",
      "0th batch\n",
      "5th batch\n",
      "10th batch\n",
      "15th batch\n",
      "20th batch\n",
      "25th batch\n",
      "Epoch 40 completed\n",
      "0th batch\n",
      "5th batch\n",
      "10th batch\n",
      "15th batch\n",
      "20th batch\n",
      "25th batch\n",
      "Epoch 41 completed\n",
      "0th batch\n",
      "5th batch\n",
      "10th batch\n",
      "15th batch\n",
      "20th batch\n",
      "25th batch\n",
      "Epoch 42 completed\n",
      "0th batch\n",
      "5th batch\n",
      "10th batch\n",
      "15th batch\n",
      "20th batch\n",
      "25th batch\n",
      "Epoch 43 completed\n",
      "0th batch\n",
      "5th batch\n",
      "10th batch\n",
      "15th batch\n",
      "20th batch\n",
      "25th batch\n",
      "Epoch 44 completed\n",
      "0th batch\n",
      "5th batch\n",
      "10th batch\n",
      "15th batch\n",
      "20th batch\n",
      "25th batch\n",
      "Epoch 45 completed\n",
      "0th batch\n",
      "5th batch\n",
      "10th batch\n",
      "15th batch\n",
      "20th batch\n",
      "25th batch\n",
      "Epoch 46 completed\n",
      "0th batch\n",
      "5th batch\n",
      "10th batch\n",
      "15th batch\n",
      "20th batch\n",
      "25th batch\n",
      "Epoch 47 completed\n",
      "0th batch\n",
      "5th batch\n",
      "10th batch\n",
      "15th batch\n",
      "20th batch\n",
      "25th batch\n",
      "Epoch 48 completed\n",
      "0th batch\n",
      "5th batch\n",
      "10th batch\n",
      "15th batch\n",
      "20th batch\n",
      "25th batch\n",
      "Epoch 49 completed\n",
      "0th batch\n",
      "5th batch\n",
      "10th batch\n",
      "15th batch\n",
      "20th batch\n",
      "25th batch\n",
      "Epoch 50 completed\n",
      "0th batch\n",
      "5th batch\n",
      "10th batch\n",
      "15th batch\n",
      "20th batch\n",
      "25th batch\n",
      "Epoch 51 completed\n",
      "0th batch\n",
      "5th batch\n",
      "10th batch\n",
      "15th batch\n",
      "20th batch\n",
      "25th batch\n",
      "Epoch 52 completed\n",
      "0th batch\n",
      "5th batch\n",
      "10th batch\n",
      "15th batch\n",
      "20th batch\n",
      "25th batch\n",
      "Epoch 53 completed\n",
      "0th batch\n",
      "5th batch\n",
      "10th batch\n",
      "15th batch\n",
      "20th batch\n",
      "25th batch\n",
      "Epoch 54 completed\n",
      "0th batch\n",
      "5th batch\n",
      "10th batch\n",
      "15th batch\n",
      "20th batch\n",
      "25th batch\n",
      "Epoch 55 completed\n",
      "0th batch\n",
      "5th batch\n",
      "10th batch\n",
      "15th batch\n",
      "20th batch\n",
      "25th batch\n",
      "Epoch 56 completed\n",
      "0th batch\n",
      "5th batch\n",
      "10th batch\n",
      "15th batch\n",
      "20th batch\n",
      "25th batch\n",
      "Epoch 57 completed\n",
      "0th batch\n",
      "5th batch\n",
      "10th batch\n",
      "15th batch\n",
      "20th batch\n",
      "25th batch\n",
      "Epoch 58 completed\n",
      "0th batch\n",
      "5th batch\n",
      "10th batch\n",
      "15th batch\n",
      "20th batch\n",
      "25th batch\n",
      "Epoch 59 completed\n",
      "0th batch\n",
      "5th batch\n",
      "10th batch\n",
      "15th batch\n",
      "20th batch\n",
      "25th batch\n",
      "Epoch 60 completed\n",
      "0th batch\n",
      "5th batch\n",
      "10th batch\n",
      "15th batch\n",
      "20th batch\n",
      "25th batch\n",
      "Epoch 61 completed\n",
      "0th batch\n",
      "5th batch\n",
      "10th batch\n",
      "15th batch\n",
      "20th batch\n",
      "25th batch\n",
      "Epoch 62 completed\n",
      "0th batch\n",
      "5th batch\n",
      "10th batch\n",
      "15th batch\n",
      "20th batch\n",
      "25th batch\n",
      "Epoch 63 completed\n",
      "0th batch\n",
      "5th batch\n",
      "10th batch\n",
      "15th batch\n",
      "20th batch\n",
      "25th batch\n",
      "Epoch 64 completed\n",
      "0th batch\n",
      "5th batch\n",
      "10th batch\n",
      "15th batch\n",
      "20th batch\n",
      "25th batch\n",
      "Epoch 65 completed\n",
      "0th batch\n",
      "5th batch\n",
      "10th batch\n",
      "15th batch\n",
      "20th batch\n",
      "25th batch\n",
      "Epoch 66 completed\n",
      "0th batch\n",
      "5th batch\n",
      "10th batch\n",
      "15th batch\n",
      "20th batch\n",
      "25th batch\n",
      "Epoch 67 completed\n",
      "0th batch\n",
      "5th batch\n",
      "10th batch\n",
      "15th batch\n",
      "20th batch\n",
      "25th batch\n",
      "Epoch 68 completed\n",
      "0th batch\n",
      "5th batch\n",
      "10th batch\n",
      "15th batch\n",
      "20th batch\n",
      "25th batch\n",
      "Epoch 69 completed\n",
      "0th batch\n",
      "5th batch\n",
      "10th batch\n",
      "15th batch\n",
      "20th batch\n",
      "25th batch\n",
      "Epoch 70 completed\n",
      "0th batch\n",
      "5th batch\n",
      "10th batch\n",
      "15th batch\n",
      "20th batch\n",
      "25th batch\n",
      "Epoch 71 completed\n",
      "0th batch\n",
      "5th batch\n",
      "10th batch\n",
      "15th batch\n",
      "20th batch\n",
      "25th batch\n",
      "Epoch 72 completed\n",
      "0th batch\n",
      "5th batch\n",
      "10th batch\n",
      "15th batch\n",
      "20th batch\n",
      "25th batch\n",
      "Epoch 73 completed\n",
      "0th batch\n",
      "5th batch\n",
      "10th batch\n",
      "15th batch\n",
      "20th batch\n",
      "25th batch\n",
      "Epoch 74 completed\n",
      "0th batch\n",
      "5th batch\n",
      "10th batch\n",
      "15th batch\n",
      "20th batch\n",
      "25th batch\n",
      "Epoch 75 completed\n",
      "0th batch\n",
      "5th batch\n",
      "10th batch\n",
      "15th batch\n",
      "20th batch\n",
      "25th batch\n",
      "Epoch 76 completed\n",
      "0th batch\n",
      "5th batch\n",
      "10th batch\n",
      "15th batch\n",
      "20th batch\n",
      "25th batch\n",
      "Epoch 77 completed\n",
      "0th batch\n",
      "5th batch\n",
      "10th batch\n",
      "15th batch\n",
      "20th batch\n",
      "25th batch\n",
      "Epoch 78 completed\n",
      "0th batch\n",
      "5th batch\n",
      "10th batch\n",
      "15th batch\n",
      "20th batch\n",
      "25th batch\n",
      "Epoch 79 completed\n",
      "0th batch\n",
      "5th batch\n",
      "10th batch\n",
      "15th batch\n",
      "20th batch\n",
      "25th batch\n",
      "Epoch 80 completed\n",
      "0th batch\n",
      "5th batch\n",
      "10th batch\n",
      "15th batch\n",
      "20th batch\n",
      "25th batch\n",
      "Epoch 81 completed\n",
      "0th batch\n",
      "5th batch\n",
      "10th batch\n",
      "15th batch\n",
      "20th batch\n",
      "25th batch\n",
      "Epoch 82 completed\n",
      "0th batch\n",
      "5th batch\n",
      "10th batch\n",
      "15th batch\n",
      "20th batch\n",
      "25th batch\n",
      "Epoch 83 completed\n",
      "0th batch\n",
      "5th batch\n",
      "10th batch\n",
      "15th batch\n",
      "20th batch\n",
      "25th batch\n",
      "Epoch 84 completed\n",
      "0th batch\n",
      "5th batch\n",
      "10th batch\n",
      "15th batch\n",
      "20th batch\n",
      "25th batch\n",
      "Epoch 85 completed\n",
      "0th batch\n",
      "5th batch\n",
      "10th batch\n",
      "15th batch\n",
      "20th batch\n",
      "25th batch\n",
      "Epoch 86 completed\n",
      "0th batch\n",
      "5th batch\n",
      "10th batch\n",
      "15th batch\n",
      "20th batch\n",
      "25th batch\n",
      "Epoch 87 completed\n",
      "0th batch\n",
      "5th batch\n",
      "10th batch\n",
      "15th batch\n",
      "20th batch\n",
      "25th batch\n",
      "Epoch 88 completed\n",
      "0th batch\n",
      "5th batch\n",
      "10th batch\n",
      "15th batch\n",
      "20th batch\n",
      "25th batch\n",
      "Epoch 89 completed\n",
      "0th batch\n",
      "5th batch\n",
      "10th batch\n",
      "15th batch\n",
      "20th batch\n",
      "25th batch\n",
      "Epoch 90 completed\n",
      "0th batch\n",
      "5th batch\n",
      "10th batch\n",
      "15th batch\n",
      "20th batch\n",
      "25th batch\n",
      "Epoch 91 completed\n",
      "0th batch\n",
      "5th batch\n",
      "10th batch\n",
      "15th batch\n",
      "20th batch\n",
      "25th batch\n",
      "Epoch 92 completed\n",
      "0th batch\n",
      "5th batch\n",
      "10th batch\n"
     ]
    },
    {
     "ename": "RuntimeError",
     "evalue": "svd_backward: The singular vectors in the complex case are specified up to multiplication by e^{i phi}. The specified loss function depends on this phase term, making it ill-defined.",
     "output_type": "error",
     "traceback": [
      "\u001B[1;31m---------------------------------------------------------------------------\u001B[0m",
      "\u001B[1;31mRuntimeError\u001B[0m                              Traceback (most recent call last)",
      "Cell \u001B[1;32mIn[15], line 22\u001B[0m\n\u001B[0;32m     20\u001B[0m loss \u001B[38;5;241m=\u001B[39m get_loss(net, D, target)\n\u001B[0;32m     21\u001B[0m train_loss \u001B[38;5;241m+\u001B[39m\u001B[38;5;241m=\u001B[39m loss\u001B[38;5;241m.\u001B[39mdetach()\n\u001B[1;32m---> 22\u001B[0m \u001B[43mloss\u001B[49m\u001B[38;5;241;43m.\u001B[39;49m\u001B[43mbackward\u001B[49m\u001B[43m(\u001B[49m\u001B[43m)\u001B[49m\n\u001B[0;32m     23\u001B[0m optimizer\u001B[38;5;241m.\u001B[39mstep()\n\u001B[0;32m     24\u001B[0m \u001B[38;5;28;01mif\u001B[39;00m i \u001B[38;5;241m%\u001B[39m \u001B[38;5;241m5\u001B[39m \u001B[38;5;241m==\u001B[39m \u001B[38;5;241m0\u001B[39m:\n",
      "File \u001B[1;32m~\\AppData\\Local\\Programs\\Python\\Python311\\Lib\\site-packages\\torch\\_tensor.py:522\u001B[0m, in \u001B[0;36mTensor.backward\u001B[1;34m(self, gradient, retain_graph, create_graph, inputs)\u001B[0m\n\u001B[0;32m    512\u001B[0m \u001B[38;5;28;01mif\u001B[39;00m has_torch_function_unary(\u001B[38;5;28mself\u001B[39m):\n\u001B[0;32m    513\u001B[0m     \u001B[38;5;28;01mreturn\u001B[39;00m handle_torch_function(\n\u001B[0;32m    514\u001B[0m         Tensor\u001B[38;5;241m.\u001B[39mbackward,\n\u001B[0;32m    515\u001B[0m         (\u001B[38;5;28mself\u001B[39m,),\n\u001B[1;32m   (...)\u001B[0m\n\u001B[0;32m    520\u001B[0m         inputs\u001B[38;5;241m=\u001B[39minputs,\n\u001B[0;32m    521\u001B[0m     )\n\u001B[1;32m--> 522\u001B[0m \u001B[43mtorch\u001B[49m\u001B[38;5;241;43m.\u001B[39;49m\u001B[43mautograd\u001B[49m\u001B[38;5;241;43m.\u001B[39;49m\u001B[43mbackward\u001B[49m\u001B[43m(\u001B[49m\n\u001B[0;32m    523\u001B[0m \u001B[43m    \u001B[49m\u001B[38;5;28;43mself\u001B[39;49m\u001B[43m,\u001B[49m\u001B[43m \u001B[49m\u001B[43mgradient\u001B[49m\u001B[43m,\u001B[49m\u001B[43m \u001B[49m\u001B[43mretain_graph\u001B[49m\u001B[43m,\u001B[49m\u001B[43m \u001B[49m\u001B[43mcreate_graph\u001B[49m\u001B[43m,\u001B[49m\u001B[43m \u001B[49m\u001B[43minputs\u001B[49m\u001B[38;5;241;43m=\u001B[39;49m\u001B[43minputs\u001B[49m\n\u001B[0;32m    524\u001B[0m \u001B[43m\u001B[49m\u001B[43m)\u001B[49m\n",
      "File \u001B[1;32m~\\AppData\\Local\\Programs\\Python\\Python311\\Lib\\site-packages\\torch\\autograd\\__init__.py:266\u001B[0m, in \u001B[0;36mbackward\u001B[1;34m(tensors, grad_tensors, retain_graph, create_graph, grad_variables, inputs)\u001B[0m\n\u001B[0;32m    261\u001B[0m     retain_graph \u001B[38;5;241m=\u001B[39m create_graph\n\u001B[0;32m    263\u001B[0m \u001B[38;5;66;03m# The reason we repeat the same comment below is that\u001B[39;00m\n\u001B[0;32m    264\u001B[0m \u001B[38;5;66;03m# some Python versions print out the first line of a multi-line function\u001B[39;00m\n\u001B[0;32m    265\u001B[0m \u001B[38;5;66;03m# calls in the traceback and some print out the last line\u001B[39;00m\n\u001B[1;32m--> 266\u001B[0m \u001B[43mVariable\u001B[49m\u001B[38;5;241;43m.\u001B[39;49m\u001B[43m_execution_engine\u001B[49m\u001B[38;5;241;43m.\u001B[39;49m\u001B[43mrun_backward\u001B[49m\u001B[43m(\u001B[49m\u001B[43m  \u001B[49m\u001B[38;5;66;43;03m# Calls into the C++ engine to run the backward pass\u001B[39;49;00m\n\u001B[0;32m    267\u001B[0m \u001B[43m    \u001B[49m\u001B[43mtensors\u001B[49m\u001B[43m,\u001B[49m\n\u001B[0;32m    268\u001B[0m \u001B[43m    \u001B[49m\u001B[43mgrad_tensors_\u001B[49m\u001B[43m,\u001B[49m\n\u001B[0;32m    269\u001B[0m \u001B[43m    \u001B[49m\u001B[43mretain_graph\u001B[49m\u001B[43m,\u001B[49m\n\u001B[0;32m    270\u001B[0m \u001B[43m    \u001B[49m\u001B[43mcreate_graph\u001B[49m\u001B[43m,\u001B[49m\n\u001B[0;32m    271\u001B[0m \u001B[43m    \u001B[49m\u001B[43minputs\u001B[49m\u001B[43m,\u001B[49m\n\u001B[0;32m    272\u001B[0m \u001B[43m    \u001B[49m\u001B[43mallow_unreachable\u001B[49m\u001B[38;5;241;43m=\u001B[39;49m\u001B[38;5;28;43;01mTrue\u001B[39;49;00m\u001B[43m,\u001B[49m\n\u001B[0;32m    273\u001B[0m \u001B[43m    \u001B[49m\u001B[43maccumulate_grad\u001B[49m\u001B[38;5;241;43m=\u001B[39;49m\u001B[38;5;28;43;01mTrue\u001B[39;49;00m\u001B[43m,\u001B[49m\n\u001B[0;32m    274\u001B[0m \u001B[43m\u001B[49m\u001B[43m)\u001B[49m\n",
      "\u001B[1;31mRuntimeError\u001B[0m: svd_backward: The singular vectors in the complex case are specified up to multiplication by e^{i phi}. The specified loss function depends on this phase term, making it ill-defined."
     ]
    }
   ]
  },
  {
   "cell_type": "markdown",
   "source": [
    "**(?) Save the model and the results**\n",
    "\n",
    "Requirements:\n",
    "* Create a folder\n",
    "* Save the model (net) and results (training/validation loss list) to the folder\n",
    "\n",
    "Hint:\n",
    "* You can use 'Path().mkdir()' to create a folder\n",
    "* You can use 'torch.save' to save the model\n",
    "* You use 'np.savez' to save the results"
   ],
   "metadata": {
    "id": "jjoH-wUYVIjX"
   }
  },
  {
   "cell_type": "code",
   "source": [
    "model_folder = 'model'\n",
    "os.makedirs(model_folder, exist_ok=True)\n",
    "\n",
    "model_path = model_folder+'/model_data_2layers.pth'\n",
    "\n",
    "torch.save(net.state_dict(), model_path)"
   ],
   "metadata": {
    "id": "KjQhHpSqVnLt"
   },
   "execution_count": 17,
   "outputs": []
  },
  {
   "cell_type": "markdown",
   "source": [
    "Uploading model for a test."
   ],
   "metadata": {
    "id": "pBSGS8qZ0wem"
   }
  },
  {
   "cell_type": "code",
   "source": [
    "model = CORONA(kernel_list, coeff_L=coeff_L, coeff_S=coeff_S)\n",
    "model.load_state_dict(torch.load(model_folder+'/model_data_2layers.pth'))\n",
    "model.eval()"
   ],
   "metadata": {
    "colab": {
     "base_uri": "https://localhost:8080/"
    },
    "id": "K2dKv4Y70wEO",
    "outputId": "d9291181-9f2f-4ed6-d35c-7b6ee2da339e"
   },
   "execution_count": 18,
   "outputs": [
    {
     "data": {
      "text/plain": "CORONA(\n  (net): Sequential(\n    (0): ISTACell(\n      (netL): Sequential(\n        (0): Conv3dCx3(\n          (convD): Conv3dC(\n            (convR): Conv3d(1, 1, kernel_size=(5, 5, 5), stride=(1, 1, 1), padding=same)\n            (convI): Conv3d(1, 1, kernel_size=(5, 5, 5), stride=(1, 1, 1), padding=same)\n          )\n          (convL): Conv3dC(\n            (convR): Conv3d(1, 1, kernel_size=(5, 5, 5), stride=(1, 1, 1), padding=same)\n            (convI): Conv3d(1, 1, kernel_size=(5, 5, 5), stride=(1, 1, 1), padding=same)\n          )\n          (convS): Conv3dC(\n            (convR): Conv3d(1, 1, kernel_size=(5, 5, 5), stride=(1, 1, 1), padding=same)\n            (convI): Conv3d(1, 1, kernel_size=(5, 5, 5), stride=(1, 1, 1), padding=same)\n          )\n        )\n        (1): SVT(\n          (relu): ReLU(inplace=True)\n          (sigmoid): Sigmoid()\n        )\n      )\n      (netS): Sequential(\n        (0): Conv3dCx3(\n          (convD): Conv3dC(\n            (convR): Conv3d(1, 1, kernel_size=(5, 5, 5), stride=(1, 1, 1), padding=same)\n            (convI): Conv3d(1, 1, kernel_size=(5, 5, 5), stride=(1, 1, 1), padding=same)\n          )\n          (convL): Conv3dC(\n            (convR): Conv3d(1, 1, kernel_size=(5, 5, 5), stride=(1, 1, 1), padding=same)\n            (convI): Conv3d(1, 1, kernel_size=(5, 5, 5), stride=(1, 1, 1), padding=same)\n          )\n          (convS): Conv3dC(\n            (convR): Conv3d(1, 1, kernel_size=(5, 5, 5), stride=(1, 1, 1), padding=same)\n            (convI): Conv3d(1, 1, kernel_size=(5, 5, 5), stride=(1, 1, 1), padding=same)\n          )\n        )\n        (1): SFT(\n          (relu): ReLU()\n          (sigmoid): Sigmoid()\n        )\n      )\n    )\n    (1): ISTACell(\n      (netL): Sequential(\n        (0): Conv3dCx3(\n          (convD): Conv3dC(\n            (convR): Conv3d(1, 1, kernel_size=(5, 5, 5), stride=(1, 1, 1), padding=same)\n            (convI): Conv3d(1, 1, kernel_size=(5, 5, 5), stride=(1, 1, 1), padding=same)\n          )\n          (convL): Conv3dC(\n            (convR): Conv3d(1, 1, kernel_size=(5, 5, 5), stride=(1, 1, 1), padding=same)\n            (convI): Conv3d(1, 1, kernel_size=(5, 5, 5), stride=(1, 1, 1), padding=same)\n          )\n          (convS): Conv3dC(\n            (convR): Conv3d(1, 1, kernel_size=(5, 5, 5), stride=(1, 1, 1), padding=same)\n            (convI): Conv3d(1, 1, kernel_size=(5, 5, 5), stride=(1, 1, 1), padding=same)\n          )\n        )\n        (1): SVT(\n          (relu): ReLU(inplace=True)\n          (sigmoid): Sigmoid()\n        )\n      )\n      (netS): Sequential(\n        (0): Conv3dCx3(\n          (convD): Conv3dC(\n            (convR): Conv3d(1, 1, kernel_size=(5, 5, 5), stride=(1, 1, 1), padding=same)\n            (convI): Conv3d(1, 1, kernel_size=(5, 5, 5), stride=(1, 1, 1), padding=same)\n          )\n          (convL): Conv3dC(\n            (convR): Conv3d(1, 1, kernel_size=(5, 5, 5), stride=(1, 1, 1), padding=same)\n            (convI): Conv3d(1, 1, kernel_size=(5, 5, 5), stride=(1, 1, 1), padding=same)\n          )\n          (convS): Conv3dC(\n            (convR): Conv3d(1, 1, kernel_size=(5, 5, 5), stride=(1, 1, 1), padding=same)\n            (convI): Conv3d(1, 1, kernel_size=(5, 5, 5), stride=(1, 1, 1), padding=same)\n          )\n        )\n        (1): SFT(\n          (relu): ReLU()\n          (sigmoid): Sigmoid()\n        )\n      )\n    )\n  )\n)"
     },
     "execution_count": 18,
     "metadata": {},
     "output_type": "execute_result"
    }
   ]
  },
  {
   "cell_type": "markdown",
   "source": [
    "**(?) Plot the figures**\n",
    "\n",
    "Requirements:\n",
    "* Create a folder called 'fig_folder' and save the figure in this folder"
   ],
   "metadata": {
    "id": "fw5fiNvQVnyd"
   }
  },
  {
   "cell_type": "code",
   "source": [
    "#(?) Create a folder called 'fig_folder'\n",
    "\n",
    "\n",
    "os.makedirs('fig_folder', exist_ok=True)\n",
    "fig_folder='fig_folder'\n",
    "\n",
    "#\n",
    "num_epochs = len(train_loss_list)\n",
    "x_range = np.arange(num_epochs) + 1\n",
    "\n",
    "# Plot training/validation loss\n",
    "plt.figure()\n",
    "plt.plot(x_range, train_loss_list, label='Training')\n",
    "plt.plot(x_range, valid_loss_list, label='Validation')\n",
    "plt.title('Loss')\n",
    "plt.xlabel('Epoch index')\n",
    "plt.legend()\n",
    "plt.grid()\n",
    "\n",
    "#(?) Save the loss curves figure\n",
    "plt.savefig(fig_folder + '/loss_plot_2layer.png')"
   ],
   "metadata": {
    "id": "HiU7cQiFVoQ9",
    "colab": {
     "base_uri": "https://localhost:8080/",
     "height": 472
    },
    "outputId": "17dc3e78-04e6-4cfc-b940-02164323cac5"
   },
   "execution_count": 19,
   "outputs": [
    {
     "data": {
      "text/plain": "<Figure size 640x480 with 1 Axes>",
      "image/png": "[encoded data removed]"
     },
     "metadata": {},
     "output_type": "display_data"
    }
   ]
  },
  {
   "cell_type": "markdown",
   "source": [
    "**(?) Get the videos**\n",
    "\n",
    "Requirements:\n",
    "* Create a folder called 'pred_folder' and save the predictions in this folder\n",
    "* Create a folder called 'video_folder' and save the videos in this folder"
   ],
   "metadata": {
    "id": "DYerh6P9WrQU"
   }
  },
  {
   "cell_type": "code",
   "source": [
    "%cd corona"
   ],
   "metadata": {
    "colab": {
     "base_uri": "https://localhost:8080/"
    },
    "id": "7xGNR3i86JIS",
    "outputId": "02f1a82d-3629-47cd-912d-733c719f3789"
   },
   "execution_count": 20,
   "outputs": [
    {
     "name": "stdout",
     "output_type": "stream",
     "text": [
      "[WinError 2] Не удается найти указанный файл: 'corona'\n",
      "C:\\Users\\Eugene\\OneDrive\\Китай\n"
     ]
    }
   ]
  },
  {
   "cell_type": "code",
   "source": [
    "#(?) Create 'pred_folder' and 'video_folder'\n",
    "\n",
    "os.makedirs('video_folder_2layer', exist_ok=True)\n",
    "video_folder='video_folder_2layer'\n",
    "\n",
    "os.makedirs('pred_folder_2layer', exist_ok=True)\n",
    "pred_folder='pred_folder_2layer'\n",
    "\n",
    "data_dir = file_list[0]\n",
    "\n",
    "#\n",
    "num_frames = 40\n",
    "for file in file_list:\n",
    "    D = loadmat('data/' + file)['D']\n",
    "    D = torch.from_numpy(D).cfloat()\n",
    "    L = torch.empty(0)\n",
    "    S = torch.empty(0)\n",
    "    for k in range(0, D.shape[-1] - num_frames + 1, num_frames):\n",
    "        Dk = D[None, None, :, :, k:k + num_frames]\n",
    "        Dk = torch.cat([torch.real(Dk), torch.imag(Dk)], dim=-1)\n",
    "        Dk = Dk.to(device)\n",
    "\n",
    "        with torch.no_grad():\n",
    "            net.eval()\n",
    "            Lk, Sk = net(Dk)\n",
    "\n",
    "        Lk = Lk[..., :num_frames].cpu().detach().squeeze()\n",
    "        Sk = Sk[..., :num_frames].cpu().detach().squeeze()\n",
    "\n",
    "        L = torch.cat([L, Lk], dim=-1)\n",
    "        S = torch.cat([S, Sk], dim=-1)\n",
    "\n",
    "    savemat('%s/prediction_%s' % (pred_folder, file), {'L': L.numpy(), 'S': S.numpy()})\n",
    "\n",
    "    D = torch.real(D[..., :L.shape[-1]])\n",
    "    V = np.round(torch.cat([D, L, S], dim=1).numpy() * 255)\n",
    "    array_to_gray_video(V, '%s/video_%s.mp4' % (video_folder, file[:-4]), fps=30)"
   ],
   "metadata": {
    "id": "vAatYM2zWrmc",
    "colab": {
     "base_uri": "https://localhost:8080/",
     "height": 1000
    },
    "outputId": "bd115ca2-f664-4c14-9b3d-4eb718b083ae"
   },
   "execution_count": 21,
   "outputs": []
  },
  {
   "cell_type": "code",
   "execution_count": null,
   "outputs": [],
   "source": [],
   "metadata": {
    "collapsed": false
   }
  }
 ]
}
